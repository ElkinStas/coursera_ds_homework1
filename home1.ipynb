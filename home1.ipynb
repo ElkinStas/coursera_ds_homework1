{
 "cells": [
  {
   "cell_type": "code",
   "execution_count": 76,
   "metadata": {},
   "outputs": [],
   "source": [
    "import re\n",
    "import numpy as np\n",
    "file_a = open('sentences.txt', 'r')"
   ]
  },
  {
   "cell_type": "code",
   "execution_count": 77,
   "metadata": {},
   "outputs": [],
   "source": [
    "words = {}\n",
    "list =[]\n",
    "for line in file_a:\n",
    "    line = line.lower()\n",
    "    list.append(line)\n",
    "    for line in re.split('[^a-z]', line):\n",
    "        if line != '':\n",
    "            if line in words:\n",
    "                words[line] +=0\n",
    "            else:\n",
    "                words[line] =0"
   ]
  },
  {
   "cell_type": "code",
   "execution_count": 78,
   "metadata": {
    "scrolled": true
   },
   "outputs": [
    {
     "name": "stdout",
     "output_type": "stream",
     "text": [
      "254\n"
     ]
    }
   ],
   "source": [
    "q =0\n",
    "for i in words:\n",
    "    q +=1\n",
    "print(q)"
   ]
  },
  {
   "cell_type": "code",
   "execution_count": 79,
   "metadata": {},
   "outputs": [
    {
     "name": "stdout",
     "output_type": "stream",
     "text": [
      "22\n"
     ]
    }
   ],
   "source": [
    "q =0\n",
    "for i in list:\n",
    "    q +=1\n",
    "print(q)    "
   ]
  },
  {
   "cell_type": "code",
   "execution_count": 80,
   "metadata": {},
   "outputs": [],
   "source": [
    "x = np.zeros((22,254))"
   ]
  },
  {
   "cell_type": "code",
   "execution_count": 81,
   "metadata": {},
   "outputs": [],
   "source": [
    "for i in range (22):\n",
    "    string = re.split('[^a-z]', list[i])\n",
    "    new_words = words.copy()\n",
    "    j = 0\n",
    "    for line in string:\n",
    "        if line in new_words:\n",
    "            new_words[line] +=1\n",
    "    for jq in sorted(new_words):\n",
    "\n",
    "        x[i,j] = new_words[jq]\n",
    "        j+=1"
   ]
  },
  {
   "cell_type": "code",
   "execution_count": 82,
   "metadata": {},
   "outputs": [],
   "source": [
    "import scipy\n",
    "from scipy import spatial"
   ]
  },
  {
   "cell_type": "code",
   "execution_count": 74,
   "metadata": {},
   "outputs": [
    {
     "name": "stdout",
     "output_type": "stream",
     "text": [
      "0.0\n",
      "0\n",
      "0.9527544408738466\n",
      "1\n",
      "0.8644738145642124\n",
      "2\n",
      "0.8951715163278082\n",
      "3\n",
      "0.7770887149698589\n",
      "4\n",
      "0.9402385695332803\n",
      "5\n",
      "0.7327387580875756\n",
      "6\n",
      "0.9258750683338899\n",
      "7\n",
      "0.8842724875284311\n",
      "8\n",
      "0.9055088817476932\n",
      "9\n",
      "0.8328165362273942\n",
      "10\n",
      "0.8804771390665607\n",
      "11\n",
      "0.8396432548525454\n",
      "12\n",
      "0.8703592552895671\n",
      "13\n",
      "0.8740118423302576\n",
      "14\n",
      "0.9442721787424647\n",
      "15\n",
      "0.8406361854220809\n",
      "16\n",
      "0.956644501523794\n",
      "17\n",
      "0.9442721787424647\n",
      "18\n",
      "0.8885443574849294\n",
      "19\n",
      "0.8427572744917122\n",
      "20\n",
      "0.8250364469440588\n",
      "21\n"
     ]
    }
   ],
   "source": [
    "i = 0\n",
    "for line in x:\n",
    "    print(scipy.spatial.distance.cosine(x[0,], x[i,]))\n",
    "    print(i)\n",
    "    i+=1"
   ]
  },
  {
   "cell_type": "code",
   "execution_count": null,
   "metadata": {},
   "outputs": [],
   "source": []
  },
  {
   "cell_type": "code",
   "execution_count": null,
   "metadata": {},
   "outputs": [],
   "source": []
  }
 ],
 "metadata": {
  "kernelspec": {
   "display_name": "Python 2",
   "language": "python",
   "name": "python2"
  },
  "language_info": {
   "codemirror_mode": {
    "name": "ipython",
    "version": 2
   },
   "file_extension": ".py",
   "mimetype": "text/x-python",
   "name": "python",
   "nbconvert_exporter": "python",
   "pygments_lexer": "ipython2",
   "version": "2.7.16"
  }
 },
 "nbformat": 4,
 "nbformat_minor": 2
}
